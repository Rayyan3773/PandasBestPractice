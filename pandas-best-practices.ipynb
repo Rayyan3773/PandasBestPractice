{
 "cells": [
  {
   "cell_type": "markdown",
   "id": "7a50ff71",
   "metadata": {
    "lines_to_next_cell": 0,
    "pycharm": {
     "name": "#%% md\n"
    }
   },
   "source": [
    "# Pandas Best Practices\n",
    "## 5 Tips for Better Pandas Code"
   ]
  },
  {
   "cell_type": "code",
   "execution_count": null,
   "id": "dce4945d",
   "metadata": {
    "lines_to_next_cell": 2
   },
   "outputs": [],
   "source": []
  },
  {
   "cell_type": "markdown",
   "id": "80cbd3aa",
   "metadata": {
    "pycharm": {
     "name": "#%% md\n"
    }
   },
   "source": [
    "## About Matt  Harrison @\\_\\_mharrison\\_\\_\n",
    "\n",
    "* Author of Effective Pandas, Machine Learning Pocket Reference, and Illustrated Guide to Python 3.\n",
    "* Advisor at Ponder (creators of Modin)\n",
    "* Corporate trainer at MetaSnake. Taught Pandas to 1000's of students.\n",
    "* Use coupon LIVE for 10% off Effective Pandas book or bundle ( https://store.metasnake.com )"
   ]
  },
  {
   "cell_type": "code",
   "execution_count": null,
   "id": "0bcc9988",
   "metadata": {
    "lines_to_next_cell": 2,
    "pycharm": {
     "name": "#%%\n"
    }
   },
   "outputs": [],
   "source": []
  },
  {
   "cell_type": "code",
   "execution_count": null,
   "id": "e34adf95",
   "metadata": {
    "lines_to_next_cell": 2,
    "pycharm": {
     "name": "#%%\n"
    }
   },
   "outputs": [],
   "source": []
  },
  {
   "cell_type": "code",
   "execution_count": null,
   "id": "41c9c9f0",
   "metadata": {
    "lines_to_next_cell": 2,
    "pycharm": {
     "name": "#%%\n"
    }
   },
   "outputs": [],
   "source": []
  },
  {
   "cell_type": "code",
   "execution_count": null,
   "id": "d7406055",
   "metadata": {
    "lines_to_next_cell": 2,
    "pycharm": {
     "name": "#%%\n"
    }
   },
   "outputs": [],
   "source": []
  },
  {
   "cell_type": "code",
   "execution_count": null,
   "id": "1a08d4e5",
   "metadata": {
    "lines_to_next_cell": 2,
    "pycharm": {
     "name": "#%%\n"
    }
   },
   "outputs": [],
   "source": []
  },
  {
   "cell_type": "code",
   "execution_count": null,
   "id": "be56606d",
   "metadata": {
    "lines_to_next_cell": 2,
    "pycharm": {
     "name": "#%%\n"
    }
   },
   "outputs": [],
   "source": []
  },
  {
   "cell_type": "markdown",
   "id": "fd363848",
   "metadata": {
    "pycharm": {
     "name": "#%% md\n"
    }
   },
   "source": [
    "## Practice this on your data with your team!\n",
    "* Contact me matt@metasnake.com\n",
    "* Follow on Twitter @\\_\\_mharrison\\_\\_"
   ]
  },
  {
   "cell_type": "code",
   "execution_count": null,
   "id": "7924efcf",
   "metadata": {
    "lines_to_next_cell": 2,
    "pycharm": {
     "name": "#%%\n"
    }
   },
   "outputs": [],
   "source": []
  },
  {
   "cell_type": "code",
   "execution_count": null,
   "id": "9d1cdea7",
   "metadata": {
    "lines_to_next_cell": 2,
    "pycharm": {
     "name": "#%%\n"
    }
   },
   "outputs": [],
   "source": []
  },
  {
   "cell_type": "markdown",
   "id": "db82ddf1",
   "metadata": {
    "pycharm": {
     "name": "#%% md\n"
    }
   },
   "source": [
    "## Outline\n",
    "\n",
    "* Load Data\n",
    "* Types\n",
    "* Chaining\n",
    "* Mutation\n",
    "* Apply\n",
    "* Aggregation"
   ]
  },
  {
   "cell_type": "markdown",
   "id": "6d1b33b6",
   "metadata": {
    "pycharm": {
     "name": "#%% md\n"
    }
   },
   "source": [
    "## Data"
   ]
  },
  {
   "cell_type": "code",
   "execution_count": null,
   "id": "15ed643c",
   "metadata": {
    "lines_to_next_cell": 2,
    "pycharm": {
     "name": "#%%\n"
    }
   },
   "outputs": [],
   "source": [
    "%matplotlib inline\n",
    "from IPython.display import display\n",
    "import numpy as np\n",
    "import pandas as pd\n",
    "import pyarrow\n",
    "\n",
    "import io\n",
    "import zipfile\n",
    "#import modin.pandas as pd"
   ]
  },
  {
   "cell_type": "code",
   "execution_count": null,
   "id": "fc61e62e",
   "metadata": {},
   "outputs": [],
   "source": [
    "pd.__version__"
   ]
  },
  {
   "cell_type": "code",
   "execution_count": null,
   "id": "eaa902cc",
   "metadata": {},
   "outputs": [],
   "source": [
    "pyarrow.__version__"
   ]
  },
  {
   "cell_type": "code",
   "execution_count": null,
   "id": "8305b07e",
   "metadata": {},
   "outputs": [],
   "source": []
  },
  {
   "cell_type": "code",
   "execution_count": null,
   "id": "4ad7cf96",
   "metadata": {},
   "outputs": [],
   "source": [
    "# https://gss.norc.org/get-the-data/stata\n",
    "# takes a few minutes on my computer to load\n",
    "path = '/mnt/c/Users/matt/Downloads/gss_spss_with_codebook.zip'\n",
    "with zipfile.ZipFile(path) as z:\n",
    "    print(z.namelist())\n",
    "    with open('gss.sav', mode='bw') as fout:\n",
    "        fout.write(z.open('GSS7218_R3.sav').read())\n",
    "    gss = pd.read_spss('gss.sav')"
   ]
  },
  {
   "cell_type": "code",
   "execution_count": null,
   "id": "5b25e423",
   "metadata": {},
   "outputs": [],
   "source": [
    "!pip install pyreadstat"
   ]
  },
  {
   "cell_type": "code",
   "execution_count": null,
   "id": "f41e4156",
   "metadata": {},
   "outputs": [],
   "source": [
    "%%time\n",
    "import pyreadstat\n",
    "gss, meta = pyreadstat.read_sav('gss.sav')"
   ]
  },
  {
   "cell_type": "code",
   "execution_count": null,
   "id": "689560f1",
   "metadata": {},
   "outputs": [],
   "source": [
    "gss.shape"
   ]
  },
  {
   "cell_type": "code",
   "execution_count": null,
   "id": "e6678c85",
   "metadata": {},
   "outputs": [],
   "source": [
    "gss.to_feather('gss.fth')"
   ]
  },
  {
   "cell_type": "code",
   "execution_count": null,
   "id": "8ee1026f",
   "metadata": {},
   "outputs": [],
   "source": [
    "%%time\n",
    "raw = pd.read_feather('~/Dropbox/work/jupyter/gss.fth')"
   ]
  },
  {
   "cell_type": "code",
   "execution_count": null,
   "id": "a7355415",
   "metadata": {
    "lines_to_next_cell": 0,
    "pycharm": {
     "name": "#%%\n"
    }
   },
   "outputs": [],
   "source": [
    "raw"
   ]
  },
  {
   "cell_type": "code",
   "execution_count": null,
   "id": "4ab30a8d",
   "metadata": {},
   "outputs": [],
   "source": [
    "# 6000 columns!\n",
    "raw.shape"
   ]
  },
  {
   "cell_type": "code",
   "execution_count": null,
   "id": "aac36737",
   "metadata": {
    "lines_to_next_cell": 0
   },
   "outputs": [],
   "source": [
    "cols = ['YEAR','ID','AGE', 'HRS1','OCC','MAJOR1','SEX','RACE','BORN','INCOME',\n",
    "        'INCOME06','HONEST','TICKET']\n",
    "\n",
    "raw[cols].to_feather('honest.fth')"
   ]
  },
  {
   "cell_type": "code",
   "execution_count": null,
   "id": "b24ec587",
   "metadata": {
    "lines_to_next_cell": 2
   },
   "outputs": [],
   "source": []
  },
  {
   "cell_type": "markdown",
   "id": "55962ac3",
   "metadata": {},
   "source": [
    "## Loading Data"
   ]
  },
  {
   "cell_type": "code",
   "execution_count": null,
   "id": "33722284",
   "metadata": {
    "lines_to_next_cell": 2,
    "pycharm": {
     "name": "#%%\n"
    }
   },
   "outputs": [],
   "source": [
    "raw = pd.read_feather('honest.fth', dtype_backend='pyarrow')"
   ]
  },
  {
   "cell_type": "code",
   "execution_count": null,
   "id": "10a42210",
   "metadata": {
    "lines_to_next_cell": 2,
    "pycharm": {
     "name": "#%%\n"
    }
   },
   "outputs": [],
   "source": []
  },
  {
   "cell_type": "markdown",
   "id": "3f07e3d4",
   "metadata": {
    "pycharm": {
     "name": "#%% md\n"
    }
   },
   "source": [
    "## My Cleanup\n",
    "See GSS_Codebook.pdf for explanation\n",
    "\n",
    "Columns:\n",
    "\n",
    "* YEAR\n",
    "* ID - RESPONDENT ID NUMBER\n",
    "* AGE - AGE OF RESPONENT\n",
    "* HRS1 - NUMBER OF HOURS WORKED LAST WEEK\n",
    "* OCC - R'S CENSUS OCCUPATION CODE (1970) - Page 126 (VAR: OCC) see page 125 for notes APPENDIX F,G,H\n",
    "   Appendix F - Page 3286\n",
    "* MAJOR1 - COLLEGE MAJOR 1\n",
    "* SEX - RESPONDENTS SEX\n",
    "* RACE - RACE OF RESPONDENT\n",
    "* BORN -  WAS R BORN IN THIS COUNTRY\n",
    "* INCOME - TOTAL FAMILY INCOME 1970\n",
    "* INCOME06 - TOTAL FAMILY INCOME 2006\n",
    "* HONEST - HONEST\n",
    "* TICKET - EVER RECEIVED A TRAFFIC TICKET\n"
   ]
  },
  {
   "cell_type": "code",
   "execution_count": null,
   "id": "3eb74187",
   "metadata": {},
   "outputs": [],
   "source": [
    "cols = ['YEAR','ID','AGE', 'HRS1','OCC','MAJOR1','SEX','RACE','BORN','INCOME',\n",
    "        'INCOME06','HONEST','TICKET']\n",
    "\n",
    "raw[cols].isna().mean()*100"
   ]
  },
  {
   "cell_type": "code",
   "execution_count": null,
   "id": "c771fa4f",
   "metadata": {},
   "outputs": [],
   "source": [
    "(raw\n",
    " [cols]\n",
    " .isna()\n",
    " .mean()*100\n",
    ")"
   ]
  },
  {
   "cell_type": "code",
   "execution_count": null,
   "id": "afc902a4",
   "metadata": {},
   "outputs": [],
   "source": [
    "MAJOR= '''RESPONSE PUNCH 1972-82 1982B 1983-87 1987B 1988-91 1993-98 2000-04 2006 2008 2010 2012 2014 2016 2018 ALL\n",
    "Accounting/bookkeeping 1 0 0 0 0 0 0 0 0 0 0 28 32 30 29 119\n",
    "Advertising 2 0 0 0 0 0 0 0 0 0 0 3 2 0 0 5\n",
    "Agriculture/horticulture 3 0 0 0 0 0 0 0 0 0 0 8 2 7 5 22\n",
    "Allied health 4 0 0 0 0 0 0 0 0 0 0 0 2 1 0 3\n",
    "Anthropology 5 0 0 0 0 0 0 0 0 0 0 3 5 1 1 10\n",
    "Architecture 6 0 0 0 0 0 0 0 0 0 0 2 3 5 3 13\n",
    "Art 7 0 0 0 0 0 0 0 0 0 0 6 7 11 10 34\n",
    "Biology 8 0 0 0 0 0 0 0 0 0 0 16 22 33 26 97\n",
    "Business administration 9 0 0 0 0 0 0 0 0 0 0 90 142 172 138 542\n",
    "Chemistry 11 0 0 0 0 0 0 0 0 0 0 5 8 10 4 27\n",
    "Communications/speech 12 0 0 0 0 0 0 0 0 0 0 20 18 26 18 82\n",
    "Comm. disorders 13 0 0 0 0 0 0 0 0 0 0 4 6 2 2 14\n",
    "Computer science 14 0 0 0 0 0 0 0 0 0 0 25 24 33 17 99\n",
    "Dentistry 15 0 0 0 0 0 0 0 0 0 0 2 4 3 5 14\n",
    "Education 16 0 0 0 0 0 0 0 0 0 0 73 91 97 79 340\n",
    "Economics 17 0 0 0 0 0 0 0 0 0 0 11 19 13 19 62\n",
    "Engineering 18 0 0 0 0 0 0 0 0 0 0 47 49 47 54 197\n",
    "English 19 0 0 0 0 0 0 0 0 0 0 23 26 27 24 100\n",
    "Finance 20 0 0 0 0 0 0 0 0 0 0 7 15 14 16 52\n",
    "Foreign language 21 0 0 0 0 0 0 0 0 0 0 4 8 6 5 23\n",
    "Forestry 22 0 0 0 0 0 0 0 0 0 0 1 0 3 0 4\n",
    "Geography 23 0 0 0 0 0 0 0 0 0 0 0 2 2 4 8\n",
    "Geology 24 0 0 0 0 0 0 0 0 0 0 1 3 4 2 10\n",
    "History 25 0 0 0 0 0 0 0 0 0 0 10 19 14 19 62\n",
    "Home economics 26 0 0 0 0 0 0 0 0 0 0 0 0 3 2 5\n",
    "Industry & techn 27 0 0 0 0 0 0 0 0 0 0 3 4 6 0 13\n",
    "Journalism 28 0 0 0 0 0 0 0 0 0 0 5 6 6 4 21\n",
    "Law 29 0 0 0 0 0 0 0 0 0 0 13 18 23 14 68\n",
    "Law enforcement 30 0 0 0 0 0 0 0 0 0 0 3 5 4 2 14\n",
    "Library science 31 0 0 0 0 0 0 0 0 0 0 4 5 2 3 14\n",
    "Marketing 32 0 0 0 0 0 0 0 0 0 0 11 15 13 12 51\n",
    "Mathematics 33 0 0 0 0 0 0 0 0 0 0 5 10 12 5 32\n",
    "Medicine 34 0 0 0 0 0 0 0 0 0 0 9 25 12 11 57\n",
    "Music 35 0 0 0 0 0 0 0 0 0 0 4 2 10 2 18\n",
    "Nursing 36 0 0 0 0 0 0 0 0 0 0 36 39 60 51 186\n",
    "Optometry 37 0 0 0 0 0 0 0 0 0 0 0 0 0 0 0\n",
    "Pharmacy 38 0 0 0 0 0 0 0 0 0 0 2 5 4 4 15\n",
    "Philosophy 39 0 0 0 0 0 0 0 0 0 0 2 0 2 2 6\n",
    "Physical education 40 0 0 0 0 0 0 0 0 0 0 9 6 16 6 37\n",
    "Physics 41 0 0 0 0 0 0 0 0 0 0 3 6 7 4 20\n",
    "Psychology 42 0 0 0 0 0 0 0 0 0 0 32 32 34 29 127\n",
    "Political science/international relations 43 0 0 0 0 0 0 0 0 0 0 16 22 19 14 71\n",
    "Sociology 44 0 0 0 0 0 0 0 0 0 0 9 15 10 12 46\n",
    "Special education 45 0 0 0 0 0 0 0 0 0 0 5 3 5 2 15\n",
    "Theater arts 46 0 0 0 0 0 0 0 0 0 0 6 2 3 1 12\n",
    "Theology 47 0 0 0 0 0 0 0 0 0 0 6 6 13 8 33\n",
    "Veterinary medicine 48 0 0 0 0 0 0 0 0 0 0 1 5 3 4 13\n",
    "Liberal arts 49 0 0 0 0 0 0 0 0 0 0 8 16 12 10 46\n",
    "Other 50 0 0 0 0 0 0 0 0 0 0 8 10 21 27 66\n",
    "General sciences 51 0 0 0 0 0 0 0 0 0 0 10 13 15 14 52\n",
    "Social work 52 0 0 0 0 0 0 0 0 0 0 7 17 24 7 55\n",
    "General studies 53 0 0 0 0 0 0 0 0 0 0 2 5 7 7 21\n",
    "Other vocational 54 0 0 0 0 0 0 0 0 0 0 5 11 6 5 27\n",
    "Health 55 0 0 0 0 0 0 0 0 0 0 23 31 31 42 127\n",
    "Industrial Relations 56 0 0 0 0 0 0 0 0 0 0 1 0 0 3 4\n",
    "Child/Human/Family Development 57 0 0 0 0 0 0 0 0 0 0 11 3 7 7 28\n",
    "Food Science/Nutrition/Culinary Arts 58 0 0 0 0 0 0 0 0 0 0 3 6 9 9 27\n",
    "Environmental Science/Ecology 59 0 0 0 0 0 0 0 0 0 0 5 5 6 8 24\n",
    "Social Sciences 60 0 0 0 0 0 0 0 0 0 0 4 2 7 5 18\n",
    "Human Services/Human Resources 61 0 0 0 0 0 0 0 0 0 0 3 7 7 5 22\n",
    "Visual Arts/Graphic Design/Design and Drafting 62 0 0 0 0 0 0 0 0 0 0 3 8 9 10 30\n",
    "Fine Arts 63 0 0 0 0 0 0 0 0 0 0 4 5 5 6 20\n",
    "Humanities 64 0 0 0 0 0 0 0 0 0 0 0 2 0 1 3\n",
    "Ethnic studies 65 0 0 0 0 0 0 0 0 0 0 3 1 0 0 4\n",
    "Educational administration 66 0 0 0 0 0 0 0 0 0 0 3 4 8 9 24\n",
    "Television/Film 67 0 0 0 0 0 0 0 0 0 0 0 2 6 1 9\n",
    "Aviation/Aeronatics 68 0 0 0 0 0 0 0 0 0 0 2 1 1 3 7\n",
    "Statistics/Biostatistics 69 0 0 0 0 0 0 0 0 0 0 0 0 2 2 4\n",
    "Criminology/Criminal Justice 70 0 0 0 0 0 0 0 0 0 0 13 17 17 13 60\n",
    "Administrative Science/Public Administration 71 0 0 0 0 0 0 0 0 0 0 2 11 3 5 21\n",
    "Electronics 72 0 0 0 0 0 0 0 0 0 0 6 6 5 9 26\n",
    "Urban and Regional Planning 73 0 0 0 0 0 0 0 0 0 0 1 1 3 2 7\n",
    "Mechanics/Machine Trade 74 0 0 0 0 0 0 0 0 0 0 0 1 1 4 6\n",
    "Dance 75 0 0 0 0 0 0 0 0 0 0 1 0 1 1 3\n",
    "Gerontology 76 0 0 0 0 0 0 0 0 0 0 1 0 1 1 3\n",
    "Public Relations 77 0 0 0 0 0 0 0 0 0 0 3 1 2 1 7\n",
    "Textiles/Cloth 78 0 0 0 0 0 0 0 0 0 0 3 4 0 0 7\n",
    "Parks and Recreation 79 0 0 0 0 0 0 0 0 0 0 1 2 1 0 4\n",
    "Information Technology 80 0 0 0 0 0 0 0 0 0 0 0 5 8 11 24\n",
    "Fashion 81 0 0 0 0 0 0 0 0 0 0 0 0 3 1 4\n",
    "Counseling 82 0 0 0 0 0 0 0 0 0 0 0 0 11 9 20\n",
    "Don't know/UNCODED 98 0 0 0 0 0 0 0 0 0 0 2 3 0 0 5\n",
    "No answer 99 0 0 0 0 0 0 0 0 0 0 0 1 5 3 9\n",
    "Not applicable 0 13626 354 7542 353 5907 10334 8394 4510 2023 2044 1263 1597 1795 1435 61177'''\n",
    "\n",
    "# copy paste slight tweak from page 186\n",
    "major_dict = {int(row.split()[-16]): ' '.join(row.split()[:-16])  for row in MAJOR.split('\\n')[1:]}\n",
    "major_dict"
   ]
  },
  {
   "cell_type": "code",
   "execution_count": null,
   "id": "7aca0699",
   "metadata": {},
   "outputs": [],
   "source": [
    "raw.MAJOR1.value_counts()"
   ]
  },
  {
   "cell_type": "code",
   "execution_count": null,
   "id": "a96dd4ce",
   "metadata": {},
   "outputs": [],
   "source": [
    "(raw\n",
    " [cols]\n",
    " .assign(\n",
    "     MAJOR1=raw.MAJOR1.fillna(99).astype('int').replace(major_dict),\n",
    "     SEX=raw.SEX#\n",
    "           \n",
    "           .astype(int)\n",
    "           .replace({1:'Male', 2:'Female'}),\n",
    "     RACE=raw.RACE.astype(int).replace({1:'White', 2:'Black', 3:'Other'}),\n",
    "     OCC=raw.OCC.fillna(9999).astype(int),\n",
    "     BORN=raw.BORN.fillna(4).astype(int).replace({1:'Yes', 2:'No', 3:'Don\\'t Know',\n",
    "                                                    4:'No answer', 5:'Not applicable'}),\n",
    "     INCOME=raw.INCOME.fillna(99).astype(int).replace({99:'No answer', **dict(enumerate(['Not applicable',\n",
    "                                                                                  0,1000,3000,4000,5000,6000,\n",
    "                                                                                  7000,8000,10000,15000,20000,25000,]))}),\n",
    "     INCOME06=raw.INCOME06.fillna(26).astype(int).replace({26:'Refused', **dict(enumerate(['Not applicable',\n",
    "                                                                                  0,1000,3000,4000,5000,6000,\n",
    "                                                                                  7000,8000,10000,12500,15000,\n",
    "                                                                                  17500,20000,22500,25000,30_000,\n",
    "                                                                                  35_000, 40_000, 50_000, 60_000,\n",
    "                                                                                 75_000, 90_000, 110_000, 130_000,\n",
    "                                                                                 150_000]))}),\n",
    "     HONEST=raw.HONEST.fillna(9).astype(int).replace({1:'Most desirable', 2:'3 most desireable',\n",
    "                                                                   3:'Not mentioned', 4:  '3 least desireable',\n",
    "                                                                   5: 'One least desireable',\n",
    "                                                                    9:'No answer'}),\n",
    "     TICKET=raw.TICKET.fillna(9).astype(int).replace({1:'Yes', 2:'No', 3:'Refused', 9: 'No answer'}),\n",
    "     )\n",
    " .astype({'YEAR':int, 'ID': 'uint16[pyarrow]'})\n",
    " .to_csv('GSS.csv')\n",
    ")"
   ]
  },
  {
   "cell_type": "code",
   "execution_count": null,
   "id": "87d75757",
   "metadata": {},
   "outputs": [],
   "source": []
  },
  {
   "cell_type": "code",
   "execution_count": null,
   "id": "8a69dde9",
   "metadata": {},
   "outputs": [],
   "source": []
  },
  {
   "cell_type": "markdown",
   "id": "340af269",
   "metadata": {},
   "source": [
    "## Types\n",
    "Getting the right types will enable analysis and correctness.\n"
   ]
  },
  {
   "cell_type": "code",
   "execution_count": null,
   "id": "b2cfa1fa",
   "metadata": {},
   "outputs": [],
   "source": [
    "%%time\n",
    "gss = pd.read_csv('GSS.csv', index_col=0, dtype_backend='pyarrow', engine='pyarrow')"
   ]
  },
  {
   "cell_type": "code",
   "execution_count": null,
   "id": "17c2dec8",
   "metadata": {
    "pycharm": {
     "name": "#%%\n"
    }
   },
   "outputs": [],
   "source": [
    "gss.dtypes"
   ]
  },
  {
   "cell_type": "code",
   "execution_count": null,
   "id": "97ffbe0a",
   "metadata": {},
   "outputs": [],
   "source": [
    "gss"
   ]
  },
  {
   "cell_type": "code",
   "execution_count": null,
   "id": "d3a0e341",
   "metadata": {
    "pycharm": {
     "name": "#%%\n"
    }
   },
   "outputs": [],
   "source": [
    "gss.memory_usage(deep=True)"
   ]
  },
  {
   "cell_type": "code",
   "execution_count": null,
   "id": "da0e97a4",
   "metadata": {
    "pycharm": {
     "name": "#%%\n"
    }
   },
   "outputs": [],
   "source": [
    "# 36 M (pandas 1)\n",
    "# 8.6 M (Pandas 2)\n",
    "gss.memory_usage(deep=True).sum()"
   ]
  },
  {
   "cell_type": "code",
   "execution_count": null,
   "id": "ccb31a77",
   "metadata": {
    "lines_to_next_cell": 2,
    "pycharm": {
     "name": "#%%\n"
    }
   },
   "outputs": [],
   "source": []
  },
  {
   "cell_type": "markdown",
   "id": "bd2ce943",
   "metadata": {
    "pycharm": {
     "name": "#%% md\n"
    }
   },
   "source": [
    "## Ints"
   ]
  },
  {
   "cell_type": "code",
   "execution_count": null,
   "id": "14a0d339",
   "metadata": {
    "pycharm": {
     "name": "#%%\n"
    }
   },
   "outputs": [],
   "source": [
    "gss.select_dtypes(int).describe()"
   ]
  },
  {
   "cell_type": "code",
   "execution_count": null,
   "id": "85db2f9c",
   "metadata": {
    "pycharm": {
     "name": "#%%\n"
    }
   },
   "outputs": [],
   "source": [
    "# chaining\n",
    "(gss\n",
    " .select_dtypes(int)\n",
    " .describe()\n",
    ")"
   ]
  },
  {
   "cell_type": "code",
   "execution_count": null,
   "id": "523d6e5f",
   "metadata": {
    "pycharm": {
     "name": "#%%\n"
    }
   },
   "outputs": [],
   "source": [
    "# can comb08 be an int8?\n",
    "# Do completion on int\n",
    "np.iinfo(np.int)"
   ]
  },
  {
   "cell_type": "code",
   "execution_count": null,
   "id": "eb9065d7",
   "metadata": {
    "pycharm": {
     "name": "#%%\n"
    }
   },
   "outputs": [],
   "source": [
    "np.iinfo(np.uint8)"
   ]
  },
  {
   "cell_type": "code",
   "execution_count": null,
   "id": "476d2064",
   "metadata": {
    "pycharm": {
     "name": "#%%\n"
    }
   },
   "outputs": [],
   "source": [
    "np.iinfo(np.uint16)"
   ]
  },
  {
   "cell_type": "code",
   "execution_count": null,
   "id": "bfb5d7a9",
   "metadata": {
    "pycharm": {
     "name": "#%%\n"
    }
   },
   "outputs": [],
   "source": [
    "# chaining\n",
    "(gss\n",
    " .astype({'YEAR': 'uint16[pyarrow]', 'ID': 'uint16[pyarrow]', 'OCC': 'uint16[pyarrow]' })\n",
    " .select_dtypes(['uint16'])\n",
    " .describe()\n",
    ")"
   ]
  },
  {
   "cell_type": "code",
   "execution_count": null,
   "id": "f8a4294f",
   "metadata": {
    "lines_to_next_cell": 2,
    "pycharm": {
     "name": "#%%\n"
    }
   },
   "outputs": [],
   "source": [
    "# chaining\n",
    "# use 'integer' so see all int-like columns\n",
    "(gss\n",
    " .astype({#'YEAR': 'uint16[pyarrow]',\n",
    "          'ID': 'uint16[pyarrow]', 'OCC': 'uint16[pyarrow]' }) \n",
    " .select_dtypes(['integer'])  # see https://numpy.org/doc/stable/reference/arrays.scalars.html\n",
    " .describe()\n",
    ")"
   ]
  },
  {
   "cell_type": "code",
   "execution_count": null,
   "id": "b402e69c",
   "metadata": {
    "lines_to_next_cell": 2,
    "pycharm": {
     "name": "#%%\n"
    }
   },
   "outputs": [],
   "source": [
    "# Inspect memory usage\n",
    "(gss\n",
    " .astype({'YEAR': 'uint16[pyarrow]', 'ID': 'uint16[pyarrow]', 'OCC': 'uint16[pyarrow]' }) \n",
    " .memory_usage(deep=True)\n",
    " .sum()  # was 36M\n",
    ")"
   ]
  },
  {
   "cell_type": "code",
   "execution_count": null,
   "id": "82e06c40",
   "metadata": {
    "lines_to_next_cell": 2,
    "pycharm": {
     "name": "#%%\n"
    }
   },
   "outputs": [],
   "source": []
  },
  {
   "cell_type": "markdown",
   "id": "bbbe67ef",
   "metadata": {},
   "source": [
    "## Int Exercise\n",
    "* Try converting *YEAR* to `'int8'`. What do the values look like?\n",
    "* Try converting *YEAR* to `'int8[pyarrow]'`. What do the values look like?"
   ]
  },
  {
   "cell_type": "code",
   "execution_count": null,
   "id": "82e6a213",
   "metadata": {},
   "outputs": [],
   "source": []
  },
  {
   "cell_type": "code",
   "execution_count": null,
   "id": "6c55ec82",
   "metadata": {},
   "outputs": [],
   "source": []
  },
  {
   "cell_type": "markdown",
   "id": "8ed257fb",
   "metadata": {},
   "source": [
    "## Floats"
   ]
  },
  {
   "cell_type": "code",
   "execution_count": null,
   "id": "a776fa74",
   "metadata": {
    "pycharm": {
     "name": "#%%\n"
    }
   },
   "outputs": [],
   "source": [
    "(gss\n",
    ".select_dtypes('float'))"
   ]
  },
  {
   "cell_type": "code",
   "execution_count": null,
   "id": "ff991d77",
   "metadata": {
    "pycharm": {
     "name": "#%%\n"
    }
   },
   "outputs": [],
   "source": [
    "# surprise! age and hours worked looks int-like\n",
    "gss.HRS1.describe()"
   ]
  },
  {
   "cell_type": "code",
   "execution_count": null,
   "id": "d157d7b6",
   "metadata": {
    "pycharm": {
     "name": "#%%\n"
    }
   },
   "outputs": [],
   "source": [
    "# opps! missing values\n",
    "gss.HRS1.value_counts(dropna=False)"
   ]
  },
  {
   "cell_type": "code",
   "execution_count": null,
   "id": "2b7a95c4",
   "metadata": {
    "pycharm": {
     "name": "#%%\n"
    }
   },
   "outputs": [],
   "source": [
    "# where are they missing?\n",
    "(gss\n",
    "  .query('HRS1.isna()')\n",
    ")"
   ]
  },
  {
   "cell_type": "code",
   "execution_count": null,
   "id": "910a3976",
   "metadata": {
    "pycharm": {
     "name": "#%%\n"
    }
   },
   "outputs": [],
   "source": [
    "# where are they missing?\n",
    "(gss\n",
    "  .query('AGE.isna()')\n",
    ")"
   ]
  },
  {
   "cell_type": "code",
   "execution_count": null,
   "id": "71e21dfd",
   "metadata": {
    "pycharm": {
     "name": "#%%\n"
    }
   },
   "outputs": [],
   "source": [
    "# where are they missing?\n",
    "# It turns out that ID is not consistent across years\n",
    "(gss\n",
    "  .query('ID == 229')\n",
    ")"
   ]
  },
  {
   "cell_type": "code",
   "execution_count": null,
   "id": "a349caf9",
   "metadata": {
    "lines_to_next_cell": 2,
    "pycharm": {
     "name": "#%%\n"
    }
   },
   "outputs": [],
   "source": [
    "# Convert to integers\n",
    "(gss\n",
    "  .astype({'YEAR': 'uint16[pyarrow]', 'ID': 'uint16[pyarrow]', 'OCC': 'uint16[pyarrow]',\n",
    "         'HRS1': 'uint8[pyarrow]', 'AGE': 'uint8[pyarrow]'})\n",
    ")"
   ]
  },
  {
   "cell_type": "code",
   "execution_count": null,
   "id": "0762eba9",
   "metadata": {
    "lines_to_next_cell": 2,
    "pycharm": {
     "name": "#%%\n"
    }
   },
   "outputs": [],
   "source": [
    "(gss\n",
    "  .astype({'YEAR': 'uint16[pyarrow]', 'ID': 'uint16[pyarrow]', 'OCC': 'uint16[pyarrow]',\n",
    "         'HRS1': 'uint8[pyarrow]', 'AGE': 'uint8[pyarrow]'})\n",
    " .memory_usage(deep=True)\n",
    " .sum()  # was 36M  \n",
    ")"
   ]
  },
  {
   "cell_type": "code",
   "execution_count": null,
   "id": "d16e2eea",
   "metadata": {
    "lines_to_next_cell": 2,
    "pycharm": {
     "name": "#%%\n"
    }
   },
   "outputs": [],
   "source": []
  },
  {
   "cell_type": "markdown",
   "id": "0224d57b",
   "metadata": {},
   "source": [
    "## Float Exercise\n",
    "\n",
    "* What is the mean of the numeric columns?\n",
    "* How many values are missing in the numeric columns?"
   ]
  },
  {
   "cell_type": "code",
   "execution_count": null,
   "id": "b79b40fc",
   "metadata": {
    "lines_to_next_cell": 2
   },
   "outputs": [],
   "source": []
  },
  {
   "cell_type": "markdown",
   "id": "8fab0e6c",
   "metadata": {},
   "source": [
    "## Objects"
   ]
  },
  {
   "cell_type": "code",
   "execution_count": null,
   "id": "243f7dbf",
   "metadata": {
    "pycharm": {
     "name": "#%%\n"
    }
   },
   "outputs": [],
   "source": [
    "# pandas 1.x\n",
    "(gss\n",
    " .select_dtypes(object)\n",
    ")"
   ]
  },
  {
   "cell_type": "code",
   "execution_count": null,
   "id": "8d54eadc",
   "metadata": {
    "pycharm": {
     "name": "#%%\n"
    }
   },
   "outputs": [],
   "source": [
    "# pandas 2\n",
    "(gss\n",
    " .select_dtypes('string') # str doesn't work\n",
    ")"
   ]
  },
  {
   "cell_type": "code",
   "execution_count": null,
   "id": "9c1377d7",
   "metadata": {
    "pycharm": {
     "name": "#%%\n"
    }
   },
   "outputs": [],
   "source": [
    "# My goto method - .value_counts\n",
    "# looks categorical\n",
    "(gss.MAJOR1.value_counts(dropna=False))"
   ]
  },
  {
   "cell_type": "code",
   "execution_count": null,
   "id": "c5f2067f",
   "metadata": {
    "lines_to_next_cell": 2,
    "pycharm": {
     "name": "#%%\n"
    }
   },
   "outputs": [],
   "source": [
    "(gss\n",
    "  .astype({'YEAR': 'uint16[pyarrow]', 'ID': 'uint16[pyarrow]', 'OCC': 'uint16[pyarrow]',\n",
    "         'HRS1': 'uint8[pyarrow]', 'AGE': 'uint8[pyarrow]',\n",
    "         'MAJOR1': 'category'})\n",
    " .memory_usage(deep=True)\n",
    " .sum()  # was 36M  \n",
    ")"
   ]
  },
  {
   "cell_type": "code",
   "execution_count": null,
   "id": "948ea602",
   "metadata": {},
   "outputs": [],
   "source": [
    "(gss\n",
    " .select_dtypes(object)\n",
    " .columns\n",
    ")"
   ]
  },
  {
   "cell_type": "code",
   "execution_count": null,
   "id": "4770035c",
   "metadata": {
    "lines_to_next_cell": 0,
    "pycharm": {
     "name": "#%%\n"
    }
   },
   "outputs": [],
   "source": [
    "# wow!\n",
    "(gss\n",
    "  .astype({'YEAR': 'uint16[pyarrow]', 'ID': 'uint16[pyarrow]', 'OCC': 'uint16[pyarrow]',\n",
    "         'HRS1': 'uint8[pyarrow]', 'AGE': 'uint8[pyarrow]',\n",
    "         'MAJOR1': 'category',\n",
    "          **{col: 'category' for col in ['SEX', 'RACE', 'BORN', \n",
    "                'INCOME', 'INCOME06', 'HONEST','TICKET']}})           \n",
    " .memory_usage(deep=True)\n",
    " .sum()  # was 36M  \n",
    ")"
   ]
  },
  {
   "cell_type": "code",
   "execution_count": null,
   "id": "d0cf2f0d",
   "metadata": {},
   "outputs": [],
   "source": []
  },
  {
   "cell_type": "code",
   "execution_count": null,
   "id": "4faa2a46",
   "metadata": {
    "lines_to_next_cell": 2
   },
   "outputs": [],
   "source": []
  },
  {
   "cell_type": "markdown",
   "id": "20f9190e",
   "metadata": {},
   "source": [
    "## Category Exercises\n",
    "* There is a `.cat` attribute on the category columns. What can you do with this attribute? (Use `dir` or tab completion to inspect).\n",
    "* Categories can be ordered. How do you order *INCOME*?\n",
    "* Order the *HONEST* column."
   ]
  },
  {
   "cell_type": "code",
   "execution_count": null,
   "id": "f355a2d7",
   "metadata": {},
   "outputs": [],
   "source": []
  },
  {
   "cell_type": "code",
   "execution_count": null,
   "id": "cdf798aa",
   "metadata": {},
   "outputs": [],
   "source": []
  },
  {
   "cell_type": "code",
   "execution_count": null,
   "id": "a8ebb702",
   "metadata": {},
   "outputs": [],
   "source": []
  },
  {
   "cell_type": "code",
   "execution_count": null,
   "id": "0b135a31",
   "metadata": {},
   "outputs": [],
   "source": []
  },
  {
   "cell_type": "code",
   "execution_count": null,
   "id": "e21c4d00",
   "metadata": {},
   "outputs": [],
   "source": []
  },
  {
   "cell_type": "code",
   "execution_count": null,
   "id": "49ccc727",
   "metadata": {},
   "outputs": [],
   "source": []
  },
  {
   "cell_type": "code",
   "execution_count": null,
   "id": "aef56e64",
   "metadata": {},
   "outputs": [],
   "source": []
  },
  {
   "cell_type": "markdown",
   "id": "b6aacf4c",
   "metadata": {},
   "source": [
    "## Make a Function"
   ]
  },
  {
   "cell_type": "code",
   "execution_count": null,
   "id": "d9248093",
   "metadata": {
    "lines_to_next_cell": 2,
    "pycharm": {
     "name": "#%%\n"
    }
   },
   "outputs": [],
   "source": [
    "# a glorious function\n",
    "# add ordered categories to this\n",
    "def tweak_gss(gss):\n",
    "    return (gss\n",
    "      .astype({'YEAR': 'uint16[pyarrow]', 'ID': 'uint16[pyarrow]', 'OCC': 'uint16[pyarrow]',\n",
    "             'HRS1': 'uint8[pyarrow]', 'AGE': 'uint8[pyarrow]',\n",
    "             'MAJOR1': 'category',\n",
    "              **{col: 'category' for col in ['SEX', 'RACE', 'BORN', \n",
    "                    'INCOME', 'INCOME06', 'HONEST','TICKET']}})\n",
    "               )\n",
    "\n",
    "tweak_gss(gss)"
   ]
  },
  {
   "cell_type": "markdown",
   "id": "ed733c0f",
   "metadata": {},
   "source": [
    "## Function Exercise\n",
    "* Rearrange your notebook. Put the imports, code to load raw data, and tweak function at the top of the notebook. Restart the kernel and validate that your code works."
   ]
  },
  {
   "cell_type": "code",
   "execution_count": null,
   "id": "59832b9c",
   "metadata": {},
   "outputs": [],
   "source": []
  },
  {
   "cell_type": "code",
   "execution_count": null,
   "id": "2e194b82",
   "metadata": {},
   "outputs": [],
   "source": []
  },
  {
   "cell_type": "markdown",
   "id": "14a759b0",
   "metadata": {
    "lines_to_next_cell": 2
   },
   "source": [
    "## Fix Column Names"
   ]
  },
  {
   "cell_type": "code",
   "execution_count": null,
   "id": "1b6f525f",
   "metadata": {
    "lines_to_next_cell": 0,
    "pycharm": {
     "name": "#%%\n"
    }
   },
   "outputs": [],
   "source": [
    "# a glorious function\n",
    "def tweak_gss(gss):\n",
    "    return (gss\n",
    "      .astype({'YEAR': 'uint16[pyarrow]', 'ID': 'uint16[pyarrow]', 'OCC': 'uint16[pyarrow]',\n",
    "             'HRS1': 'uint8[pyarrow]', 'AGE': 'uint8[pyarrow]',\n",
    "             'MAJOR1': 'category',\n",
    "              **{col: 'category' for col in ['SEX', 'RACE', 'BORN', \n",
    "                    'INCOME', 'INCOME06', 'HONEST','TICKET']}})\n",
    "     .rename(columns={'YEAR': 'year', 'ID': 'year_id', 'AGE':'age', \n",
    "          'HRS1': 'hours_worked', 'OCC': 'occupation', \n",
    "          'MAJOR1': 'college_major', 'SEX':'sex', \n",
    "          'RACE':'race', 'BORN':'born_in_US',\n",
    "          'INCOME':'income_1970', 'INCOME06': 'income_2006',\n",
    "          'HONEST':'honesty_rank',\n",
    "          'TICKET':'traffic_ticket'})\n",
    "    )\n",
    "\n",
    "tweak_gss(gss)"
   ]
  },
  {
   "cell_type": "code",
   "execution_count": null,
   "id": "a2ee98dd",
   "metadata": {
    "lines_to_next_cell": 2,
    "pycharm": {
     "name": "#%%\n"
    }
   },
   "outputs": [],
   "source": []
  },
  {
   "cell_type": "code",
   "execution_count": null,
   "id": "e526055e",
   "metadata": {
    "lines_to_next_cell": 2,
    "pycharm": {
     "name": "#%%\n"
    }
   },
   "outputs": [],
   "source": []
  },
  {
   "cell_type": "markdown",
   "id": "e6f23669",
   "metadata": {
    "pycharm": {
     "name": "#%% md\n"
    }
   },
   "source": [
    "## Chain\n",
    "\n",
    "Chaining is also called \"flow\" programming. Rather than making intermediate variables, just leverage the fact that most operations return a new object and work on that.\n",
    "\n",
    "The chain should read like a recipe of ordered steps.\n",
    "\n",
    "(BTW, this is actually what we did above.)\n",
    "\n",
    "<div class='alert alert-warning'>\n",
    "    Hint: Leverage <tt>.pipe</tt> if you can't find a way to chain 😉🐼💪\n",
    "</div>\n",
    "    \n",
    "\n",
    "\n"
   ]
  },
  {
   "cell_type": "code",
   "execution_count": null,
   "id": "048a2a0a",
   "metadata": {
    "lines_to_next_cell": 0,
    "pycharm": {
     "name": "#%%\n"
    }
   },
   "outputs": [],
   "source": [
    "# a glorious function\n",
    "def tweak_gss(gss):\n",
    "    return (gss\n",
    "      .astype({'YEAR': 'uint16[pyarrow]', 'ID': 'uint16[pyarrow]', 'OCC': 'uint16[pyarrow]',\n",
    "             'HRS1': 'uint8[pyarrow]', 'AGE': 'uint8[pyarrow]',\n",
    "             'MAJOR1': 'category',\n",
    "              **{col: 'category' for col in ['SEX', 'RACE', 'BORN', \n",
    "                    'INCOME', 'INCOME06', 'HONEST','TICKET']}})\n",
    "     .rename(columns={'YEAR': 'year', 'ID': 'year_id', 'AGE':'age', \n",
    "          'HRS1': 'hours_worked', 'OCC': 'occupation', \n",
    "          'MAJOR1': 'college_major', 'SEX':'sex', \n",
    "          'RACE':'race', 'BORN':'born_in_US',\n",
    "          'INCOME':'income_1970', 'INCOME06': 'income_2006',\n",
    "          'HONEST':'honesty_rank',\n",
    "          'TICKET':'traffic_ticket'})\n",
    "    )\n",
    "\n",
    "tweak_gss(gss)"
   ]
  },
  {
   "cell_type": "code",
   "execution_count": null,
   "id": "cf1bcbeb",
   "metadata": {
    "pycharm": {
     "name": "#%%\n"
    }
   },
   "outputs": [],
   "source": [
    "# compare chain to this mess\n",
    "gss2 = gss.copy()\n",
    "year = gss.YEAR\n",
    "year_int = year.astype('uint16')\n",
    "gss2['year'] = year_int\n",
    "id = gss.ID\n",
    "id_int = id.astype('uint16')\n",
    "gss2['year_id'] = id_int\n",
    "occ = gss.OCC\n",
    "occ_int = occ.astype('uint16')\n",
    "gss2['occupation'] = occ_int\n",
    "\n",
    "# more of this"
   ]
  },
  {
   "cell_type": "code",
   "execution_count": null,
   "id": "0327fb0c",
   "metadata": {
    "lines_to_next_cell": 0,
    "pycharm": {
     "name": "#%%\n"
    }
   },
   "outputs": [],
   "source": [
    "# easy to debug\n",
    "#  - assign to var (df3)\n",
    "#  - comment out\n",
    "#  - pipe to display\n",
    "\n",
    "\n",
    "from IPython.display import display\n",
    "\n",
    "def get_var(df, var_name):\n",
    "    globals()[var_name] = df\n",
    "    return df\n",
    "\n",
    "def tweak_gss(gss):\n",
    "    return (gss\n",
    "      .pipe(get_var, 'df3')   \n",
    "     .pipe(lambda df: print(df.shape) or df)                \n",
    "      .astype({'YEAR': 'uint16[pyarrow]', 'ID': 'uint16[pyarrow]', 'OCC': 'uint16[pyarrow]',\n",
    "             'HRS1': 'uint8[pyarrow]', 'AGE': 'uint8[pyarrow]',\n",
    "             'MAJOR1': 'category',\n",
    "              **{col: 'category' for col in ['SEX', 'RACE', 'BORN', \n",
    "                    'INCOME', 'INCOME06', 'HONEST','TICKET']}})\n",
    "     .pipe(lambda df: print(df.shape) or df)                            \n",
    "     .rename(columns={'YEAR': 'year', 'ID': 'year_id', 'AGE':'age', \n",
    "          'HRS1': 'hours_worked', 'OCC': 'occupation', \n",
    "          'MAJOR1': 'college_major', 'SEX':'sex', \n",
    "          'RACE':'race', 'BORN':'born_in_US',\n",
    "          'INCOME':'income_1970', 'INCOME06': 'income_2006',\n",
    "          'HONEST':'honesty_rank',\n",
    "          'TICKET':'traffic_ticket'})\n",
    "     .pipe(lambda df: print(df.shape) or df)                            \n",
    "    )\n",
    "\n",
    "tweak_gss(gss)"
   ]
  },
  {
   "cell_type": "code",
   "execution_count": null,
   "id": "d88b56fb",
   "metadata": {
    "pycharm": {
     "name": "#%%\n"
    }
   },
   "outputs": [],
   "source": [
    "# inspect intermediate data frame\n",
    "df3"
   ]
  },
  {
   "cell_type": "markdown",
   "id": "5b3258e3",
   "metadata": {
    "pycharm": {
     "name": "#%%\n"
    }
   },
   "source": [
    "## Chain Exercise\n",
    "* Write a function that acccepts a dataframe and an index value. It should print any rows that match the index and return the dataframe that was passed in.\n",
    "* Use the function with pipe after each step of the chain. Show the rows for index 2 and 64,813.\n",
    "\n",
    "\n",
    "\n",
    "\n",
    "\n",
    "\n",
    "\n",
    "\n",
    "## Don't Mutate\n",
    "\n",
    "> \"you are missing the point, inplace rarely actually does something inplace, you are thinking that you are saving memory but you are not.\"\n",
    ">\n",
    "> **jreback** - Pandas core dev\n",
    "\n",
    "\n",
    "\n",
    "https://github.com/pandas-dev/pandas/issues/16529#issuecomment-676518136\n",
    "\n",
    "* In general, no performance benefits\n",
    "* Prohibits chaining\n",
    "* ``SettingWithCopyWarning`` fun\n"
   ]
  },
  {
   "cell_type": "code",
   "execution_count": null,
   "id": "f940ba02",
   "metadata": {
    "lines_to_next_cell": 2,
    "pycharm": {
     "name": "#%%\n"
    }
   },
   "outputs": [],
   "source": [
    "pd.read_csv??"
   ]
  },
  {
   "cell_type": "code",
   "execution_count": null,
   "id": "e891555b",
   "metadata": {
    "lines_to_next_cell": 2,
    "pycharm": {
     "name": "#%%\n"
    }
   },
   "outputs": [],
   "source": []
  },
  {
   "cell_type": "code",
   "execution_count": null,
   "id": "19377ea2",
   "metadata": {
    "lines_to_next_cell": 2,
    "pycharm": {
     "name": "#%%\n"
    }
   },
   "outputs": [],
   "source": []
  },
  {
   "cell_type": "markdown",
   "id": "69f61d0b",
   "metadata": {
    "pycharm": {
     "name": "#%% md\n"
    }
   },
   "source": [
    "## Don't Apply (if you can)"
   ]
  },
  {
   "cell_type": "code",
   "execution_count": null,
   "id": "0824228a",
   "metadata": {
    "lines_to_next_cell": 0,
    "pycharm": {
     "name": "#%%\n"
    }
   },
   "outputs": [],
   "source": [
    "# a glorious function\n",
    "def tweak_gss(gss):\n",
    "    return (gss\n",
    "      .astype({'YEAR': 'uint16[pyarrow]', 'ID': 'uint16[pyarrow]', 'OCC': 'uint16[pyarrow]',\n",
    "             'HRS1': 'uint8[pyarrow]', 'AGE': 'uint8[pyarrow]',\n",
    "             'MAJOR1': 'category',\n",
    "              **{col: 'category' for col in ['SEX', 'RACE', 'BORN', \n",
    "                    'INCOME', 'INCOME06', 'HONEST','TICKET']}})\n",
    "     .rename(columns={'YEAR': 'year', 'ID': 'year_id', 'AGE':'age', \n",
    "          'HRS1': 'hours_worked', 'OCC': 'occupation', \n",
    "          'MAJOR1': 'college_major', 'SEX':'sex', \n",
    "          'RACE':'race', 'BORN':'born_in_US',\n",
    "          'INCOME':'income_1970', 'INCOME06': 'income_2006',\n",
    "          'HONEST':'honesty_rank',\n",
    "          'TICKET':'traffic_ticket'})\n",
    "    )\n",
    "\n",
    "gss2 = tweak_gss(gss)"
   ]
  },
  {
   "cell_type": "code",
   "execution_count": null,
   "id": "9f8646fb",
   "metadata": {
    "pycharm": {
     "name": "#%%\n"
    }
   },
   "outputs": [],
   "source": [
    "# convert age to months\n",
    "def to_months(val):\n",
    "    return val * 12\n",
    "\n",
    "gss2.age.apply(to_months)"
   ]
  },
  {
   "cell_type": "code",
   "execution_count": null,
   "id": "acf0cb92",
   "metadata": {
    "pycharm": {
     "name": "#%%\n"
    }
   },
   "outputs": [],
   "source": [
    "# this gives the sames results\n",
    "gss2.age * 12"
   ]
  },
  {
   "cell_type": "code",
   "execution_count": null,
   "id": "2c1d2d7c",
   "metadata": {
    "pycharm": {
     "name": "#%%\n"
    }
   },
   "outputs": [],
   "source": [
    "%%timeit\n",
    "gss2.age.apply(to_months)"
   ]
  },
  {
   "cell_type": "code",
   "execution_count": null,
   "id": "7809cbe0",
   "metadata": {
    "pycharm": {
     "name": "#%%\n"
    }
   },
   "outputs": [],
   "source": [
    "%%timeit\n",
    "gss2.age * 12"
   ]
  },
  {
   "cell_type": "code",
   "execution_count": null,
   "id": "c1585f54",
   "metadata": {
    "pycharm": {
     "name": "#%%\n"
    }
   },
   "outputs": [],
   "source": [
    "# ~42x slower!\n",
    "4_590 / 110"
   ]
  },
  {
   "cell_type": "code",
   "execution_count": null,
   "id": "bd873f3b",
   "metadata": {},
   "outputs": [],
   "source": [
    "gss.MAJOR1.value_counts()[:20]"
   ]
  },
  {
   "cell_type": "code",
   "execution_count": null,
   "id": "63aee97b",
   "metadata": {
    "pycharm": {
     "name": "#%%\n"
    }
   },
   "outputs": [],
   "source": [
    "def is_science(val):\n",
    "    return val in {'Engineering', 'Computer science', 'Biology'}"
   ]
  },
  {
   "cell_type": "code",
   "execution_count": null,
   "id": "336ae05d",
   "metadata": {
    "pycharm": {
     "name": "#%%\n"
    }
   },
   "outputs": [],
   "source": [
    "%%timeit\n",
    "# string\n",
    "gss.MAJOR1.apply(is_science)"
   ]
  },
  {
   "cell_type": "code",
   "execution_count": null,
   "id": "80660c8e",
   "metadata": {
    "pycharm": {
     "name": "#%%\n"
    }
   },
   "outputs": [],
   "source": [
    "%%timeit\n",
    "gss.MAJOR1.isin({'Engineering', 'Computer science', 'Biology'})"
   ]
  },
  {
   "cell_type": "code",
   "execution_count": null,
   "id": "8c923fc2",
   "metadata": {
    "lines_to_next_cell": 0,
    "pycharm": {
     "name": "#%%\n"
    }
   },
   "outputs": [],
   "source": [
    "%%timeit\n",
    "# categorical\n",
    "gss2.college_major.isin({'Engineering', 'Computer science', 'Biology'})"
   ]
  },
  {
   "cell_type": "code",
   "execution_count": null,
   "id": "e485aca3",
   "metadata": {
    "lines_to_next_cell": 2
   },
   "outputs": [],
   "source": []
  },
  {
   "cell_type": "markdown",
   "id": "8d2b1998",
   "metadata": {},
   "source": [
    "## Apply Exercise\n",
    "* Make a new column called *minutes_worked* derived the *hours_worked* column.\n",
    "* Make a new column called *income_ratio*.\n",
    "  * Convert the income columns to numbers (replace `'No answer'` and `'Refused'` with `np.nan`).\n",
    "  * Fill in the missing values with the median\n",
    "  * Divide the 2006 value by 1970 value"
   ]
  },
  {
   "cell_type": "code",
   "execution_count": null,
   "id": "dc6f05bf",
   "metadata": {},
   "outputs": [],
   "source": []
  },
  {
   "cell_type": "code",
   "execution_count": null,
   "id": "aad78447",
   "metadata": {},
   "outputs": [],
   "source": []
  },
  {
   "cell_type": "code",
   "execution_count": null,
   "id": "301cf859",
   "metadata": {},
   "outputs": [],
   "source": []
  },
  {
   "cell_type": "code",
   "execution_count": null,
   "id": "1434eacf",
   "metadata": {},
   "outputs": [],
   "source": []
  },
  {
   "cell_type": "code",
   "execution_count": null,
   "id": "418a5450",
   "metadata": {},
   "outputs": [],
   "source": []
  },
  {
   "cell_type": "code",
   "execution_count": null,
   "id": "2d3eb1f1",
   "metadata": {},
   "outputs": [],
   "source": []
  },
  {
   "cell_type": "code",
   "execution_count": null,
   "id": "6a84571e",
   "metadata": {},
   "outputs": [],
   "source": []
  },
  {
   "cell_type": "code",
   "execution_count": null,
   "id": "a4c94ffb",
   "metadata": {},
   "outputs": [],
   "source": []
  },
  {
   "cell_type": "code",
   "execution_count": null,
   "id": "aaeaa804",
   "metadata": {},
   "outputs": [],
   "source": []
  },
  {
   "cell_type": "code",
   "execution_count": null,
   "id": "dbae9586",
   "metadata": {},
   "outputs": [],
   "source": []
  },
  {
   "cell_type": "code",
   "execution_count": null,
   "id": "d274e0a6",
   "metadata": {},
   "outputs": [],
   "source": []
  },
  {
   "cell_type": "code",
   "execution_count": null,
   "id": "4b5be4e2",
   "metadata": {},
   "outputs": [],
   "source": []
  },
  {
   "cell_type": "code",
   "execution_count": null,
   "id": "b7d65ae1",
   "metadata": {},
   "outputs": [],
   "source": []
  },
  {
   "cell_type": "code",
   "execution_count": null,
   "id": "10797f46",
   "metadata": {},
   "outputs": [],
   "source": []
  },
  {
   "cell_type": "code",
   "execution_count": null,
   "id": "08b0af1d",
   "metadata": {},
   "outputs": [],
   "source": []
  },
  {
   "cell_type": "code",
   "execution_count": null,
   "id": "58133444",
   "metadata": {},
   "outputs": [],
   "source": []
  },
  {
   "cell_type": "code",
   "execution_count": null,
   "id": "b5aa6e63",
   "metadata": {},
   "outputs": [],
   "source": []
  },
  {
   "cell_type": "code",
   "execution_count": null,
   "id": "d43c9eaf",
   "metadata": {},
   "outputs": [],
   "source": []
  },
  {
   "cell_type": "code",
   "execution_count": null,
   "id": "73425e67",
   "metadata": {},
   "outputs": [],
   "source": []
  },
  {
   "cell_type": "code",
   "execution_count": null,
   "id": "4d20eeb2",
   "metadata": {},
   "outputs": [],
   "source": []
  },
  {
   "cell_type": "code",
   "execution_count": null,
   "id": "27162b9d",
   "metadata": {},
   "outputs": [],
   "source": []
  },
  {
   "cell_type": "code",
   "execution_count": null,
   "id": "2e476d0a",
   "metadata": {},
   "outputs": [],
   "source": []
  },
  {
   "cell_type": "code",
   "execution_count": null,
   "id": "e5c76be3",
   "metadata": {},
   "outputs": [],
   "source": []
  },
  {
   "cell_type": "code",
   "execution_count": null,
   "id": "2a1ca74c",
   "metadata": {},
   "outputs": [],
   "source": []
  },
  {
   "cell_type": "code",
   "execution_count": null,
   "id": "07e61d21",
   "metadata": {},
   "outputs": [],
   "source": []
  },
  {
   "cell_type": "code",
   "execution_count": null,
   "id": "fdc2a51b",
   "metadata": {},
   "outputs": [],
   "source": []
  },
  {
   "cell_type": "code",
   "execution_count": null,
   "id": "6233b83f",
   "metadata": {
    "lines_to_next_cell": 2
   },
   "outputs": [],
   "source": []
  },
  {
   "cell_type": "markdown",
   "id": "e8316c22",
   "metadata": {},
   "source": [
    "## Master Aggregation\n",
    "\n",
    "Let's compare age by sex by year...🤔"
   ]
  },
  {
   "cell_type": "code",
   "execution_count": null,
   "id": "dba26a80",
   "metadata": {
    "pycharm": {
     "name": "#%%\n"
    }
   },
   "outputs": [],
   "source": [
    "(gss2\n",
    "   .groupby('year')\n",
    "   .mean()\n",
    ")"
   ]
  },
  {
   "cell_type": "code",
   "execution_count": null,
   "id": "1cb60529",
   "metadata": {
    "pycharm": {
     "name": "#%%\n"
    }
   },
   "outputs": [],
   "source": [
    "(gss2\n",
    "   .groupby('year')\n",
    "   .mean(numeric_only=True)\n",
    ")"
   ]
  },
  {
   "cell_type": "code",
   "execution_count": null,
   "id": "50139082",
   "metadata": {
    "pycharm": {
     "name": "#%%\n"
    }
   },
   "outputs": [],
   "source": [
    "(gss2\n",
    "   .groupby('year')\n",
    "   [['age', 'hours_worked']]\n",
    "   .mean()\n",
    ")"
   ]
  },
  {
   "cell_type": "code",
   "execution_count": null,
   "id": "2d3f56e1",
   "metadata": {
    "pycharm": {
     "name": "#%%\n"
    }
   },
   "outputs": [],
   "source": [
    "import matplotlib.pyplot as plt\n",
    "import seaborn as sns\n",
    "#plt.style.use('pandas1book') \n",
    "sns.set_context('talk')\n",
    "plt.plot(range(10))"
   ]
  },
  {
   "cell_type": "code",
   "execution_count": null,
   "id": "8999d23e",
   "metadata": {
    "pycharm": {
     "name": "#%%\n"
    }
   },
   "outputs": [],
   "source": [
    "(gss2\n",
    "   .groupby('year')\n",
    "   [['age', 'hours_worked']]\n",
    "   .median()\n",
    "   .plot()\n",
    ")"
   ]
  },
  {
   "cell_type": "code",
   "execution_count": null,
   "id": "ebfe7b72",
   "metadata": {
    "pycharm": {
     "name": "#%%\n"
    }
   },
   "outputs": [],
   "source": [
    "(gss2\n",
    "   .groupby('year')\n",
    "   [['age', 'hours_worked']]\n",
    "   #.mean()\n",
    "   #.median()\n",
    "   #.std()\n",
    "   .max()\n",
    "   .plot()\n",
    ")"
   ]
  },
  {
   "cell_type": "code",
   "execution_count": null,
   "id": "d65512f1",
   "metadata": {
    "lines_to_next_cell": 2,
    "pycharm": {
     "name": "#%%\n"
    }
   },
   "outputs": [],
   "source": [
    "# add sex\n",
    "(gss2\n",
    "   .groupby(['year', 'sex'])\n",
    "   [['age', 'hours_worked']]\n",
    "   .mean()\n",
    "   #.median()\n",
    "   #.std()\n",
    "   #.max()\n",
    "   #.plot()\n",
    ")"
   ]
  },
  {
   "cell_type": "code",
   "execution_count": null,
   "id": "b5dc9ee2",
   "metadata": {
    "lines_to_next_cell": 2,
    "pycharm": {
     "name": "#%%\n"
    }
   },
   "outputs": [],
   "source": [
    "# add sex\n",
    "(gss2\n",
    "   .groupby(['year', 'sex'])\n",
    "   [['age', 'hours_worked']]\n",
    "   .mean()\n",
    "   #.median()\n",
    "   #.std()\n",
    "   #.max()\n",
    "   .plot()\n",
    ")"
   ]
  },
  {
   "cell_type": "code",
   "execution_count": null,
   "id": "e6fb9a44",
   "metadata": {
    "lines_to_next_cell": 2,
    "pycharm": {
     "name": "#%%\n"
    }
   },
   "outputs": [],
   "source": [
    "# unstack\n",
    "(gss2\n",
    "   .groupby(['year', 'sex'])\n",
    "   [['age', 'hours_worked']]\n",
    "   .mean()\n",
    "   #.median()\n",
    "   #.std()\n",
    "   #.max()\n",
    "   .unstack() \n",
    "   .plot()\n",
    ")"
   ]
  },
  {
   "cell_type": "code",
   "execution_count": null,
   "id": "00d0e4e3",
   "metadata": {
    "lines_to_next_cell": 2,
    "pycharm": {
     "name": "#%%\n"
    }
   },
   "outputs": [],
   "source": [
    "(gss2\n",
    "   .groupby(['year', 'sex'])\n",
    "   [['age', 'hours_worked']]\n",
    "   .mean()\n",
    "   .unstack()\n",
    "   .age\n",
    ")"
   ]
  },
  {
   "cell_type": "code",
   "execution_count": null,
   "id": "5d6048c6",
   "metadata": {
    "lines_to_next_cell": 2,
    "pycharm": {
     "name": "#%%\n"
    }
   },
   "outputs": [],
   "source": [
    "(gss2\n",
    "   .groupby(['year', 'sex'])\n",
    "   [['age', 'hours_worked']]\n",
    "   .mean()\n",
    "   .unstack()\n",
    "   .age\n",
    "   .plot()\n",
    "   .legend(bbox_to_anchor=(1,1))\n",
    ")"
   ]
  },
  {
   "cell_type": "code",
   "execution_count": null,
   "id": "01025ea4",
   "metadata": {
    "pycharm": {
     "name": "#%%\n"
    }
   },
   "outputs": [],
   "source": [
    "# Let's try looking at hours worked\n",
    "(gss2\n",
    "   .groupby(['year', 'sex'])\n",
    "   [['age', 'hours_worked']]\n",
    "   .mean()\n",
    "   .unstack()\n",
    "   .hours_worked\n",
    "   .plot()\n",
    "   .legend(bbox_to_anchor=(1,1))\n",
    ")"
   ]
  },
  {
   "cell_type": "code",
   "execution_count": null,
   "id": "a2abf951",
   "metadata": {
    "lines_to_next_cell": 2,
    "pycharm": {
     "name": "#%%\n"
    }
   },
   "outputs": [],
   "source": [
    "# Multiple aggregates\n",
    "def second(group):\n",
    "    return group.iloc[1]\n",
    "(gss2\n",
    "   .groupby(['year', 'sex'])\n",
    "   [['age', 'hours_worked']]\n",
    "  .agg(['min', 'max', 'mean', second])\n",
    "   \n",
    ")"
   ]
  },
  {
   "cell_type": "code",
   "execution_count": null,
   "id": "5aeff9c4",
   "metadata": {
    "lines_to_next_cell": 2,
    "pycharm": {
     "name": "#%%\n"
    }
   },
   "outputs": [],
   "source": []
  },
  {
   "cell_type": "markdown",
   "id": "679deaa6",
   "metadata": {},
   "source": [
    "## Aggregation Exercise\n",
    "* Which occupation has the highest median hours worked?\n",
    "* Which occupation has the lowest age?\n",
    "* What is the breakdown of respondents by race for each year?\n",
    "* Convert the previous to a percentage.\n",
    "* How many unique occupations are there for each year?\n",
    "* What is the most popular college_major for each year?\n",
    "* What is the second most popular college_major for each year?"
   ]
  },
  {
   "cell_type": "code",
   "execution_count": null,
   "id": "c1ed326f",
   "metadata": {},
   "outputs": [],
   "source": []
  },
  {
   "cell_type": "code",
   "execution_count": null,
   "id": "155058e3",
   "metadata": {},
   "outputs": [],
   "source": []
  },
  {
   "cell_type": "code",
   "execution_count": null,
   "id": "1e2d3087",
   "metadata": {},
   "outputs": [],
   "source": []
  },
  {
   "cell_type": "code",
   "execution_count": null,
   "id": "5396ff11",
   "metadata": {},
   "outputs": [],
   "source": []
  },
  {
   "cell_type": "code",
   "execution_count": null,
   "id": "3d205cff",
   "metadata": {},
   "outputs": [],
   "source": []
  },
  {
   "cell_type": "code",
   "execution_count": null,
   "id": "e3060a45",
   "metadata": {},
   "outputs": [],
   "source": []
  },
  {
   "cell_type": "code",
   "execution_count": null,
   "id": "4ea73c72",
   "metadata": {},
   "outputs": [],
   "source": []
  },
  {
   "cell_type": "code",
   "execution_count": null,
   "id": "cbda2901",
   "metadata": {},
   "outputs": [],
   "source": []
  },
  {
   "cell_type": "code",
   "execution_count": null,
   "id": "f2852479",
   "metadata": {},
   "outputs": [],
   "source": []
  },
  {
   "cell_type": "code",
   "execution_count": null,
   "id": "e08f2d1a",
   "metadata": {},
   "outputs": [],
   "source": []
  },
  {
   "cell_type": "code",
   "execution_count": null,
   "id": "b5b9a8df",
   "metadata": {},
   "outputs": [],
   "source": []
  },
  {
   "cell_type": "code",
   "execution_count": null,
   "id": "aa1e59bc",
   "metadata": {},
   "outputs": [],
   "source": []
  },
  {
   "cell_type": "code",
   "execution_count": null,
   "id": "b8333f27",
   "metadata": {},
   "outputs": [],
   "source": []
  },
  {
   "cell_type": "code",
   "execution_count": null,
   "id": "73ffee1d",
   "metadata": {},
   "outputs": [],
   "source": []
  },
  {
   "cell_type": "code",
   "execution_count": null,
   "id": "cb1eb3c6",
   "metadata": {
    "lines_to_next_cell": 2
   },
   "outputs": [],
   "source": []
  },
  {
   "cell_type": "markdown",
   "id": "117eb2d6",
   "metadata": {},
   "source": [
    "## Summary\n",
    "\n",
    "* Correct types save space and enable convenient math, string, and date functionality\n",
    "* Chaining operations will:\n",
    "   * Make code readable\n",
    "   * Remove bugs\n",
    "   * Easier to debug\n",
    "* Don't mutate (there's no point). Embrace chaining.\n",
    "* ``.apply`` is slow for math\n",
    "* Aggregations are powerful. Play with them until they make sense\n",
    "\n",
    "Follow on Twitter ``@__mharrison__``\n",
    "\n",
    "Book giveaway!"
   ]
  },
  {
   "cell_type": "code",
   "execution_count": null,
   "id": "fd4afc91",
   "metadata": {
    "pycharm": {
     "name": "#%%\n"
    }
   },
   "outputs": [],
   "source": [
    "import random\n",
    "random.randrange(1,13)"
   ]
  },
  {
   "cell_type": "code",
   "execution_count": null,
   "id": "2f9bde4e",
   "metadata": {
    "lines_to_next_cell": 2,
    "pycharm": {
     "name": "#%%\n"
    }
   },
   "outputs": [],
   "source": []
  },
  {
   "cell_type": "code",
   "execution_count": null,
   "id": "2f6404d2",
   "metadata": {
    "lines_to_next_cell": 2,
    "pycharm": {
     "name": "#%%\n"
    }
   },
   "outputs": [],
   "source": []
  },
  {
   "cell_type": "code",
   "execution_count": null,
   "id": "a4e3ee0e",
   "metadata": {
    "lines_to_next_cell": 2,
    "pycharm": {
     "name": "#%%\n"
    }
   },
   "outputs": [],
   "source": []
  },
  {
   "cell_type": "code",
   "execution_count": null,
   "id": "7f2bf81a",
   "metadata": {
    "pycharm": {
     "name": "#%%\n"
    }
   },
   "outputs": [],
   "source": []
  }
 ],
 "metadata": {
  "kernelspec": {
   "display_name": "Python 3 (ipykernel)",
   "language": "python",
   "name": "python3"
  }
 },
 "nbformat": 4,
 "nbformat_minor": 5
}
